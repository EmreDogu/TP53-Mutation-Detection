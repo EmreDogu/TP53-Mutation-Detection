{
 "cells": [
  {
   "cell_type": "code",
   "execution_count": 1,
   "id": "cc77c8cf-7bb0-45ba-a546-cdf8ca8f0721",
   "metadata": {},
   "outputs": [],
   "source": [
    "# necessary imports\n",
    "from urllib.request import urlopen\n",
    "import json\n",
    "import collections\n",
    "import os"
   ]
  },
  {
   "cell_type": "code",
   "execution_count": 2,
   "id": "bee8b72c-c751-4470-9051-0c2d1b5940da",
   "metadata": {},
   "outputs": [
    {
     "name": "stdout",
     "output_type": "stream",
     "text": [
      "dict_keys(['accession', 'entryName', 'proteinName', 'geneName', 'organismName', 'proteinExistence', 'sequence', 'sequenceChecksum', 'sequenceVersion', 'taxid', 'features'])\n",
      "\n",
      "\n",
      "dict_keys(['type', 'alternativeSequence', 'begin', 'end', 'xrefs', 'cytogeneticBand', 'genomicLocation', 'locations', 'consequenceType', 'wildType', 'mutatedType', 'somaticStatus', 'clinicalSignificances', 'association', 'descriptions', 'sourceType'])\n"
     ]
    }
   ],
   "source": [
    "# store the URL in url as parameter for urlopen\n",
    "url = 'https://www.ebi.ac.uk/proteins/api/variation/P04637?format=json'\n",
    "\n",
    "# store the response of URL\n",
    "response = urlopen(url)\n",
    "\n",
    "# storing the JSON response from url in data\n",
    "data = json.loads(response.read())\n",
    "\n",
    "print(data.keys())\n",
    "print('\\n')\n",
    "print(data['features'][0].keys())"
   ]
  },
  {
   "cell_type": "code",
   "execution_count": 3,
   "id": "f0055b35-097f-45f2-aff2-7d7a939d7459",
   "metadata": {},
   "outputs": [
    {
     "name": "stdout",
     "output_type": "stream",
     "text": [
      "TP53\n",
      "\n",
      "\n",
      "Homo sapiens\n",
      "\n",
      "\n",
      "MEEPQSDPSVEPPLSQETFSDLWKLLPENNVLSPLPSQAMDDLMLSPDDIEQWFTEDPGPDEAPRMPEAAPPVAPAPAAPTPAAPAPAPSWPLSSSVPSQKTYQGSYGFRLGFLHSGTAKSVTCTYSPALNKMFCQLAKTCPVQLWVDSTPPPGTRVRAMAIYKQSQHMTEVVRRCPHHERCSDSDGLAPPQHLIRVEGNLRVEYLDDRNTFRHSVVVPYEPPEVGSDCTTIHYNYMCNSSCMGGMNRRPILTIITLEDSSGNLLGRNSFEVRVCACPGRDRRTEEENLRKKGEPHHELPPGSTKRALPNNTSSSPQPKKKPLDGEYFTLQIRGRERFEMFRELNEALELKDAQAGKEPGGSRAHSSHLKSKKGQSTSRHKKLMFKTEGPDSD\n"
     ]
    }
   ],
   "source": [
    "# retriveing geneName, organismName and original sequence\n",
    "geneName = data['geneName']\n",
    "organismName = data['organismName']\n",
    "sequence = data['sequence']\n",
    "\n",
    "# initializing mutations dictionaries for storing them (known mutations is for the ones came from UniProt, generated mutations are the ones we did and finally allmutations is for combining them into 1 single dictionary)\n",
    "allmutations = collections.defaultdict(dict)\n",
    "\n",
    "# storing all aminoacids for comparisons\n",
    "aminoacids = 'ACDEFGHIKLMNPQRSTVWY'\n",
    "\n",
    "print(geneName)\n",
    "print('\\n')\n",
    "print(organismName)\n",
    "print('\\n')\n",
    "print(sequence)"
   ]
  },
  {
   "cell_type": "code",
   "execution_count": 4,
   "id": "a831723b-0db8-4e08-adc9-a87620eca279",
   "metadata": {},
   "outputs": [
    {
     "name": "stdout",
     "output_type": "stream",
     "text": [
      "dict_values(['p.Asp393Tyr', '', 393, 'D', 'Y'])\n"
     ]
    }
   ],
   "source": [
    "# iterating through the json for collecting every variant from UniProt\n",
    "for features in data['features']:\n",
    "    if features.get('begin') == features.get('end'):\n",
    "        if (features.get('mutatedType') != None and (features.get('mutatedType') in aminoacids and features.get('wildType') in aminoacids)):\n",
    "            variantSequence = sequence[:int(features.get('begin'))-1] + features.get('mutatedType') + sequence[int(features.get('begin')):]\n",
    "            allmutations[variantSequence]['name'] = features.get('locations')[0].get('loc')\n",
    "            allmutations[variantSequence]['description'] = features.get('descriptions')[0].get('value') if features.get('descriptions') != None else \"\"\n",
    "            allmutations[variantSequence]['position'] = int(features.get('begin'))\n",
    "            allmutations[variantSequence]['originalType'] = features.get('wildType')\n",
    "            allmutations[variantSequence]['mutatedType'] = features.get('mutatedType')\n",
    "\n",
    "print(allmutations[variantSequence].values())"
   ]
  },
  {
   "cell_type": "code",
   "execution_count": 5,
   "id": "21e983bf-e804-467c-8f86-9d737b37467f",
   "metadata": {},
   "outputs": [
    {
     "name": "stdout",
     "output_type": "stream",
     "text": [
      "dict_values(['GeneratedMutation5638', '', 393, 'D', 'W'])\n"
     ]
    }
   ],
   "source": [
    "# generating and storing mutations\n",
    "count = 0\n",
    "for original in range(0, len(sequence)):\n",
    "    for mutated in range(0, len(aminoacids)):\n",
    "        if sequence[original] == aminoacids[mutated]:\n",
    "            continue\n",
    "        else:\n",
    "            newsequence = sequence[:original] + aminoacids[mutated] + sequence[original+1:]\n",
    "            # for making sure not adding existing mutations again\n",
    "            if newsequence not in allmutations.keys():\n",
    "                allmutations[newsequence]['name'] = 'GeneratedMutation' + str(count)\n",
    "                allmutations[newsequence]['description'] = \"\"\n",
    "                allmutations[newsequence]['position'] = original+1\n",
    "                allmutations[newsequence]['originalType'] = sequence[original]\n",
    "                allmutations[newsequence]['mutatedType'] = aminoacids[mutated]\n",
    "                count += 1\n",
    "\n",
    "print(allmutations[list(allmutations.keys())[len(list(allmutations.keys()))-1]].values())"
   ]
  },
  {
   "cell_type": "code",
   "execution_count": 6,
   "id": "2a7765fc",
   "metadata": {},
   "outputs": [],
   "source": [
    "# generating files for doing queries on their respective algorithms\n",
    "with open(os.path.join('prediction queries', 'tp53.fasta'), \"w\") as outfile:\n",
    "    outfile.write('>'+geneName+' '+organismName)\n",
    "    outfile.write('\\n')\n",
    "    outfile.write(sequence)\n",
    "outfile.close()\n",
    "\n",
    "with open(os.path.join('prediction queries', 'siftquery.txt'), \"w\") as outfile:\n",
    "    for i in allmutations.keys():\n",
    "        outfile.write(allmutations[i]['originalType']+str(allmutations[i]['position'])+allmutations[i]['mutatedType'])\n",
    "        outfile.write('\\n')\n",
    "outfile.close()\n",
    "\n",
    "with open(os.path.join('prediction queries', 'polyphenquery.txt'), \"w\") as outfile:\n",
    "    for i in allmutations.keys():\n",
    "        outfile.write('P04637'+' '+str(allmutations[i]['position'])+' '+allmutations[i]['originalType']+' '+allmutations[i]['mutatedType'])\n",
    "        outfile.write('\\n')\n",
    "outfile.close()"
   ]
  },
  {
   "cell_type": "code",
   "execution_count": 7,
   "id": "6fc91549-f65f-4788-bda2-851990cfa2a8",
   "metadata": {},
   "outputs": [
    {
     "name": "stdout",
     "output_type": "stream",
     "text": [
      "damaging 0.0\n",
      "\n",
      "\n",
      "possibly damaging 0.874\n"
     ]
    }
   ],
   "source": [
    "# PolyPhen and SIFT matrix creations and storing them in their own respective dictionaries\n",
    "siftpredictionmatrixtype = collections.defaultdict(dict)\n",
    "siftpredictionmatrixvalue = collections.defaultdict(dict)\n",
    "polyphen2predictionmatrixtype = collections.defaultdict(dict)\n",
    "polyphen2predictionmatrixvalue = collections.defaultdict(dict)\n",
    "\n",
    "with open(os.path.join('inputs', 'sift predictions.txt')) as f:\n",
    "    for line in f:\n",
    "        predictionvalues = line.split()\n",
    "        for aminoacid in range(0, len(aminoacids)):\n",
    "            if (float(predictionvalues[aminoacid+2])>0.05):\n",
    "                predictionValType = 'tolerated'\n",
    "            else:\n",
    "                predictionValType = 'damaging'\n",
    "\n",
    "            siftpredictionmatrixtype[predictionvalues[0]][aminoacids[aminoacid]] = predictionValType\n",
    "            siftpredictionmatrixvalue[predictionvalues[0]][aminoacids[aminoacid]] = float(predictionvalues[aminoacid+2])\n",
    "\n",
    "with open(os.path.join('inputs', 'polyphen predictions.txt')) as f:\n",
    "   for line in f:\n",
    "        predictionvalues = line.split()\n",
    "        if (predictionvalues[9] == 'benign'):\n",
    "            polyphen2predictionmatrixtype[predictionvalues[6]+predictionvalues[7]][predictionvalues[8]] = predictionvalues[9]\n",
    "            polyphen2predictionmatrixvalue[predictionvalues[6]+predictionvalues[7]][predictionvalues[8]] = float(predictionvalues[10])\n",
    "        else:\n",
    "            polyphen2predictionmatrixtype[predictionvalues[6]+predictionvalues[7]][predictionvalues[8]] = predictionvalues[9] + ' ' + predictionvalues[10]\n",
    "            polyphen2predictionmatrixvalue[predictionvalues[6]+predictionvalues[7]][predictionvalues[8]] = float(predictionvalues[11])\n",
    "\n",
    "print(siftpredictionmatrixtype['1M']['Q'] + ' ' + str(siftpredictionmatrixvalue['1M']['Q']))\n",
    "print('\\n')\n",
    "print(polyphen2predictionmatrixtype['1M']['Q'] + ' ' + str(polyphen2predictionmatrixvalue['1M']['Q']))"
   ]
  },
  {
   "cell_type": "code",
   "execution_count": 8,
   "id": "076f2f65-3c09-4bf7-8339-189e36287f67",
   "metadata": {},
   "outputs": [
    {
     "name": "stdout",
     "output_type": "stream",
     "text": [
      "dict_values(['GeneratedMutation5638', '', 393, 'D', 'W', 'damaging', 0.0, 'probably damaging', 0.995])\n"
     ]
    }
   ],
   "source": [
    "# adding prediction values for both algoritms into the combined mutations dictionary\n",
    "for i in allmutations.keys():\n",
    "    allmutations[i]['siftpredictionType'] = siftpredictionmatrixtype[str(allmutations[i]['position'])+allmutations[i]['originalType']][allmutations[i]['mutatedType']]\n",
    "    allmutations[i]['siftpredictionValue'] = siftpredictionmatrixvalue[str(allmutations[i]['position'])+allmutations[i]['originalType']][allmutations[i]['mutatedType']]\n",
    "    allmutations[i]['polyphen2predictionType'] = polyphen2predictionmatrixtype[str(allmutations[i]['position'])+allmutations[i]['originalType']][allmutations[i]['mutatedType']]\n",
    "    allmutations[i]['polyphen2predictionValue'] = polyphen2predictionmatrixvalue[str(allmutations[i]['position'])+allmutations[i]['originalType']][allmutations[i]['mutatedType']]\n",
    "\n",
    "print(allmutations[list(allmutations.keys())[len(list(allmutations.keys()))-1]].values())"
   ]
  },
  {
   "cell_type": "code",
   "execution_count": 9,
   "id": "23acbd4f-5b14-4623-b24c-6bce866a2e8c",
   "metadata": {},
   "outputs": [],
   "source": [
    "# creating json file for r\n",
    "with open(os.path.join('outputs', 'dictionary.csv'), \"w\") as outfile:\n",
    "    outfile.write(\"name,sequence,description,position,originalType,mutatedType,siftpredictionType,siftpredictionValue,polyphen2predictionType,polyphen2predictionValue\")\n",
    "outfile.close()\n",
    "\n",
    "with open(os.path.join('outputs', 'dictionary.csv'), \"a\") as outfile:\n",
    "    for i in allmutations.keys():\n",
    "        outfile.write('\\n')\n",
    "        outfile.write(allmutations[i]['name']+','+i+','+allmutations[i]['description']+','+str(allmutations[i]['position'])+','+allmutations[i]['originalType']+','+allmutations[i]['mutatedType']+','+allmutations[i]['siftpredictionType']+','+str(allmutations[i]['siftpredictionValue'])+','+allmutations[i]['polyphen2predictionType']+','+str(allmutations[i]['polyphen2predictionValue']))\n",
    "outfile.close()"
   ]
  }
 ],
 "metadata": {
  "kernelspec": {
   "display_name": "Python 3 (ipykernel)",
   "language": "python",
   "name": "python3"
  },
  "language_info": {
   "codemirror_mode": {
    "name": "ipython",
    "version": 3
   },
   "file_extension": ".py",
   "mimetype": "text/x-python",
   "name": "python",
   "nbconvert_exporter": "python",
   "pygments_lexer": "ipython3",
   "version": "3.10.12"
  }
 },
 "nbformat": 4,
 "nbformat_minor": 5
}
